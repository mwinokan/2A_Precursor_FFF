{
 "cells": [
  {
   "cell_type": "markdown",
   "id": "2647d525-7b2a-450f-bfdf-372bb714fc68",
   "metadata": {},
   "source": [
    "# FFF step 1: merge prep"
   ]
  },
  {
   "cell_type": "code",
   "execution_count": 1,
   "id": "2219f460-cee0-4c10-8a51-5d8b6d3201bd",
   "metadata": {},
   "outputs": [],
   "source": [
    "%load_ext autoreload\n",
    "%autoreload 2\n",
    "import hippo\n",
    "from os import environ\n",
    "from pathlib import Path\n",
    "import json\n",
    "from mrich import print\n",
    "import mrich\n",
    "import shutil\n",
    "import molparse as mp"
   ]
  },
  {
   "cell_type": "markdown",
   "id": "2a66de41-9717-4596-b59e-51314d1f4620",
   "metadata": {},
   "source": [
    "## Get BulkDock HIPPO database"
   ]
  },
  {
   "cell_type": "code",
   "execution_count": 2,
   "id": "459f31a9-ffa0-48b4-812c-ad4348980cd9",
   "metadata": {},
   "outputs": [],
   "source": [
    "target_name = \"A71EV2AZ\""
   ]
  },
  {
   "cell_type": "code",
   "execution_count": 3,
   "id": "567a1c07-ae3c-4dcf-9e54-8ad222e0e493",
   "metadata": {},
   "outputs": [
    {
     "data": {
      "text/html": [
       "<pre style=\"white-space:pre;overflow-x:auto;line-height:normal;font-family:Menlo,'DejaVu Sans Mono',consolas,'Courier New',monospace;margin:0px\"><span style=\"font-weight: bold\"> Creating HIPPO animal</span>\n",
       "</pre>\n"
      ],
      "text/plain": [
       "\u001b[1m Creating HIPPO animal\u001b[0m\n"
      ]
     },
     "metadata": {},
     "output_type": "display_data"
    },
    {
     "data": {
      "text/html": [
       "<pre style=\"white-space:pre;overflow-x:auto;line-height:normal;font-family:Menlo,'DejaVu Sans Mono',consolas,'Courier New',monospace;margin:0px\"><span style=\"color: #008080; text-decoration-color: #008080; font-weight: bold\">name</span> = <span style=\"color: #00d7af; text-decoration-color: #00d7af\">A71EV2AZ</span>\n",
       "</pre>\n"
      ],
      "text/plain": [
       "\u001b[1;36mname\u001b[0m = \u001b[38;5;43mA71EV2AZ\u001b[0m\n"
      ]
     },
     "metadata": {},
     "output_type": "display_data"
    },
    {
     "data": {
      "text/html": [
       "<pre style=\"white-space:pre;overflow-x:auto;line-height:normal;font-family:Menlo,'DejaVu Sans Mono',consolas,'Courier New',monospace;margin:0px\"><span style=\"color: #008080; text-decoration-color: #008080; font-weight: bold\">db_path</span> = <span style=\"color: #d7af00; text-decoration-color: #d7af00\">/opt/xchem-fragalysis-2/maxwin/BulkDock/TARGETS/A71EV2AZ/A71EV2AZ.sqlite</span>\n",
       "</pre>\n"
      ],
      "text/plain": [
       "\u001b[1;36mdb_path\u001b[0m = \u001b[38;5;178m/opt/xchem-fragalysis-2/maxwin/BulkDock/TARGETS/A71EV2AZ/A71EV2AZ.sqlite\u001b[0m\n"
      ]
     },
     "metadata": {},
     "output_type": "display_data"
    },
    {
     "data": {
      "text/html": [
       "<pre style=\"white-space:pre;overflow-x:auto;line-height:normal;font-family:Menlo,'DejaVu Sans Mono',consolas,'Courier New',monospace;margin:0px\"><span style=\"color: #808080; text-decoration-color: #808080\">DEBUG: hippo.Database.__init__()</span>\n",
       "</pre>\n"
      ],
      "text/plain": [
       "\u001b[90mDEBUG: hippo.Database.__init__()\u001b[0m\n"
      ]
     },
     "metadata": {},
     "output_type": "display_data"
    },
    {
     "data": {
      "text/html": [
       "<pre style=\"white-space:pre;overflow-x:auto;line-height:normal;font-family:Menlo,'DejaVu Sans Mono',consolas,'Courier New',monospace;margin:0px\"><span style=\"color: #808080; text-decoration-color: #808080\">DEBUG: Database.path = /opt/xchem-fragalysis-2/maxwin/BulkDock/TARGETS/A71EV2AZ/A71EV2AZ.sqlite</span>\n",
       "</pre>\n"
      ],
      "text/plain": [
       "\u001b[90mDEBUG: Database.path = /opt/xchem-fragalysis-2/maxwin/BulkDock/TARGETS/A71EV2AZ/A71EV2AZ.sqlite\u001b[0m\n"
      ]
     },
     "metadata": {},
     "output_type": "display_data"
    },
    {
     "data": {
      "text/html": [
       "<pre style=\"white-space:pre;overflow-x:auto;line-height:normal;font-family:Menlo,'DejaVu Sans Mono',consolas,'Courier New',monospace;margin:0px\"><span style=\"color: #808080; text-decoration-color: #808080\">DEBUG: hippo.Database.connect()</span>\n",
       "</pre>\n"
      ],
      "text/plain": [
       "\u001b[90mDEBUG: hippo.Database.connect()\u001b[0m\n"
      ]
     },
     "metadata": {},
     "output_type": "display_data"
    },
    {
     "data": {
      "text/html": [
       "<pre style=\"white-space:pre;overflow-x:auto;line-height:normal;font-family:Menlo,'DejaVu Sans Mono',consolas,'Courier New',monospace;margin:0px\"><span style=\"color: #808080; text-decoration-color: #808080\">DEBUG: sqlite3.version='2.6.0'</span>\n",
       "</pre>\n"
      ],
      "text/plain": [
       "\u001b[90mDEBUG: sqlite3.version='2.6.0'\u001b[0m\n"
      ]
     },
     "metadata": {},
     "output_type": "display_data"
    },
    {
     "data": {
      "text/html": [
       "<pre style=\"white-space:pre;overflow-x:auto;line-height:normal;font-family:Menlo,'DejaVu Sans Mono',consolas,'Courier New',monospace;margin:0px\"><span style=\"background-color: #008000; font-weight: bold\"> Success </span><span style=\"color: #008000; text-decoration-color: #008000; font-weight: bold\"> Database connected @</span><span style=\"color: #d7af00; text-decoration-color: #d7af00; font-weight: bold\"> /opt/xchem-fragalysis-2/maxwin/BulkDock/TARGETS/A71EV2AZ/A71EV2AZ.sqlite!</span>\n",
       "</pre>\n"
      ],
      "text/plain": [
       "\u001b[1;7;32m Success \u001b[0m\u001b[1;32m Database connected @\u001b[0m\u001b[1;38;5;178m /opt/xchem-fragalysis-2/maxwin/BulkDock/TARGETS/A71EV2AZ/A71EV2AZ.sqlite!\u001b[0m\n"
      ]
     },
     "metadata": {},
     "output_type": "display_data"
    },
    {
     "data": {
      "text/html": [
       "<pre style=\"white-space:pre;overflow-x:auto;line-height:normal;font-family:Menlo,'DejaVu Sans Mono',consolas,'Courier New',monospace;margin:0px\"><span style=\"background-color: #008000; font-weight: bold\"> Success </span><span style=\"color: #008000; text-decoration-color: #008000; font-weight: bold\"> Initialised animal</span><span style=\"color: #008080; text-decoration-color: #008080; font-weight: bold\"> HIPPO(\"A71EV2AZ\")!</span>\n",
       "</pre>\n"
      ],
      "text/plain": [
       "\u001b[1;7;32m Success \u001b[0m\u001b[1;32m Initialised animal\u001b[0m\u001b[1;36m HIPPO(\"A71EV2AZ\")!\u001b[0m\n"
      ]
     },
     "metadata": {},
     "output_type": "display_data"
    }
   ],
   "source": [
    "animal = hippo.HIPPO(target_name, Path(environ[\"BULK\"])/\"TARGETS\"/target_name/f\"{target_name}.sqlite\")"
   ]
  },
  {
   "cell_type": "markdown",
   "id": "4e56bff2-81ef-4e06-9e6c-3a5f01c06557",
   "metadata": {},
   "source": [
    "## Define merging hypotheses"
   ]
  },
  {
   "cell_type": "code",
   "execution_count": null,
   "id": "04bba1aa-bd5a-49f6-9f32-aa8b75a2f1ed",
   "metadata": {},
   "outputs": [],
   "source": [
    "animal.tags.unique"
   ]
  },
  {
   "cell_type": "code",
   "execution_count": null,
   "id": "76b287d7-38ba-4f3c-a792-80a9eb22dcee",
   "metadata": {},
   "outputs": [],
   "source": [
    "merging_hypotheses = {\n",
    "    # nickname: tag,\n",
    "    \"iter1_frags\" : \"[Other] FFF_iter1_frags\",\n",
    "}\n",
    "\n",
    "json.dump(merging_hypotheses, open(\"merging_hypotheses.json\", \"wt\"))"
   ]
  },
  {
   "cell_type": "markdown",
   "id": "19e3a917-2110-4efd-89de-61492202c3c5",
   "metadata": {},
   "source": [
    "## Create subdirectories"
   ]
  },
  {
   "cell_type": "code",
   "execution_count": null,
   "id": "8e47e7fc-7d33-4b30-8137-1d636da02dd5",
   "metadata": {},
   "outputs": [],
   "source": [
    "for nickname in merging_hypotheses:\n",
    "    (Path(\"../fragmenstein\") / nickname).mkdir(exist_ok=True, parents=True)\n",
    "    (Path(\"../knitwork\") / nickname).mkdir(exist_ok=True, parents=True)\n",
    "    (Path(\"../syndirella\") / nickname).mkdir(exist_ok=True, parents=True)"
   ]
  },
  {
   "cell_type": "markdown",
   "id": "2fe6f3a6-9125-41ac-b0c4-fb5128308570",
   "metadata": {},
   "source": [
    "## Knitwork & Fragmenstein inputs\n",
    "\n",
    "### Create input SDFs & CSVs"
   ]
  },
  {
   "cell_type": "code",
   "execution_count": null,
   "id": "2cc75013-8170-40a0-8e10-8d704ec7c155",
   "metadata": {},
   "outputs": [],
   "source": [
    "for nickname, tag in merging_hypotheses.items():\n",
    "    \n",
    "    poses = animal.poses(tag=tag)\n",
    "    mrich.h3(nickname)\n",
    "    mrich.var(\"poses\", poses)\n",
    "\n",
    "    # knitwork\n",
    "    out_dir = Path(f\"../knitwork/{nickname}\")\n",
    "    poses.to_knitwork(out_dir / f\"{nickname}_input.csv\", path_root=out_dir, aligned_files_dir=\"../aligned_files\")\n",
    "\n",
    "    # # fragmenstein\n",
    "    # poses.write_sdf(out_dir / f\"{nickname}_hits.sdf\")\n",
    "    # shutil.copy(out_dir / f\"{nickname}_hits.sdf\", Path(f\"../fragmenstein/{nickname}\") / f\"{nickname}_hits.sdf\")\n",
    "\n",
    "    # ref_pose = poses[0]\n",
    "    # mrich.var(\"ref_pose\", ref_pose)\n",
    "    # shutil.copy(ref_pose.apo_path, Path(f\"../fragmenstein/{nickname}\"))"
   ]
  },
  {
   "cell_type": "markdown",
   "id": "e54d68c1-9022-40ac-88a6-a3b514915270",
   "metadata": {},
   "source": [
    "### Create protonated PDBs for Knitwork"
   ]
  },
  {
   "cell_type": "code",
   "execution_count": null,
   "id": "74c4e219-7ba4-41cd-b1ce-aa13e46196e7",
   "metadata": {},
   "outputs": [],
   "source": [
    "for nickname, tag in merging_hypotheses.items():\n",
    "    poses = animal.poses(tag=tag)\n",
    "    for pose in poses:\n",
    "        path = pose.apo_path\n",
    "        sys = mp.parse(path,verbosity=False)\n",
    "        sys.add_hydrogens(pH=7)\n",
    "        subdir = Path(\"../aligned_files\")/pose.name\n",
    "        subdir.mkdir(exist_ok=True, parents=True)\n",
    "        sys.write(subdir / str(path.name).replace('_apo-desolv.pdb', '_apo-desolv-Hs.pdb'), verbosity=1)"
   ]
  },
  {
   "cell_type": "markdown",
   "id": "d88906c1-aaf4-4033-a5de-6b3d68c3c109",
   "metadata": {},
   "source": [
    "## Backup and close database"
   ]
  },
  {
   "cell_type": "code",
   "execution_count": null,
   "id": "ca54fd94-5762-4557-a8f5-62e60eef583e",
   "metadata": {},
   "outputs": [],
   "source": [
    "animal.db.backup()\n",
    "animal.db.close()"
   ]
  },
  {
   "cell_type": "code",
   "execution_count": 4,
   "id": "0934761f-aad9-4ea3-b8ce-c1d452e2fc2a",
   "metadata": {},
   "outputs": [
    {
     "data": {
      "text/html": [
       "<pre style=\"white-space:pre;overflow-x:auto;line-height:normal;font-family:Menlo,'DejaVu Sans Mono',consolas,'Courier New',monospace;margin:0px\"><span style=\"background-color: #d7af00; font-weight: bold\"> DISK </span> Writing <span style=\"color: #d7af00; text-decoration-color: #d7af00\">../syndirella/templates</span>...\n",
       "</pre>\n"
      ],
      "text/plain": [
       "\u001b[1;7;38;5;178m DISK \u001b[0m Writing \u001b[38;5;178m../syndirella/templates\u001b[0m...\n"
      ]
     },
     "metadata": {},
     "output_type": "display_data"
    },
    {
     "data": {
      "text/html": [
       "<pre style=\"white-space:pre;overflow-x:auto;line-height:normal;font-family:Menlo,'DejaVu Sans Mono',consolas,'Courier New',monospace;margin:0px\"><span style=\"color: #008080; text-decoration-color: #008080; font-weight: bold\">out_key</span> = iter1_elabs\n",
       "</pre>\n"
      ],
      "text/plain": [
       "\u001b[1;36mout_key\u001b[0m = iter1_elabs\n"
      ]
     },
     "metadata": {},
     "output_type": "display_data"
    },
    {
     "data": {
      "text/html": [
       "<pre style=\"white-space:pre;overflow-x:auto;line-height:normal;font-family:Menlo,'DejaVu Sans Mono',consolas,'Courier New',monospace;margin:0px\"><span style=\"color: #008080; text-decoration-color: #008080; font-weight: bold\">#poses</span> = <span style=\"color: #008080; text-decoration-color: #008080; font-weight: bold\">3</span>\n",
       "</pre>\n"
      ],
      "text/plain": [
       "\u001b[1;36m#poses\u001b[0m = \u001b[1;36m3\u001b[0m\n"
      ]
     },
     "metadata": {},
     "output_type": "display_data"
    },
    {
     "data": {
      "application/vnd.jupyter.widget-view+json": {
       "model_id": "8bd3633a90084927ac9c1852352a0c32",
       "version_major": 2,
       "version_minor": 0
      },
      "text/plain": [
       "Output()"
      ]
     },
     "metadata": {},
     "output_type": "display_data"
    },
    {
     "data": {
      "text/html": [
       "<pre style=\"white-space:pre;overflow-x:auto;line-height:normal;font-family:Menlo,'DejaVu Sans Mono',consolas,'Courier New',monospace;margin:0px\"><span style=\"background-color: #ff8700; font-weight: bold\"> Warning </span><span style=\"color: #ff8700; text-decoration-color: #ff8700\"> </span><span style=\"color: #ff8700; text-decoration-color: #ff8700; font-weight: bold; text-decoration: underline\">C1-&gt;P1: \"A0229a\" h</span><span style=\"color: #ff8700; text-decoration-color: #ff8700\">as no reference, using self as template!</span>\n",
       "</pre>\n"
      ],
      "text/plain": [
       "\u001b[1;7;38;5;208m Warning \u001b[0m\u001b[38;5;208m \u001b[0m\u001b[1;4;38;5;208mC1->P1: \"A0229a\" h\u001b[0m\u001b[38;5;208mas no reference, using self as template!\u001b[0m\n"
      ]
     },
     "metadata": {},
     "output_type": "display_data"
    },
    {
     "data": {
      "text/html": [
       "<pre style=\"white-space:pre;overflow-x:auto;line-height:normal;font-family:Menlo,'DejaVu Sans Mono',consolas,'Courier New',monospace;margin:0px\"><span style=\"background-color: #ff8700; font-weight: bold\"> Warning </span><span style=\"color: #ff8700; text-decoration-color: #ff8700\"> </span><span style=\"color: #ff8700; text-decoration-color: #ff8700; font-weight: bold; text-decoration: underline\">C1-&gt;P1: \"A0229a\" h</span><span style=\"color: #ff8700; text-decoration-color: #ff8700\">as no inspirations, using self!</span>\n",
       "</pre>\n"
      ],
      "text/plain": [
       "\u001b[1;7;38;5;208m Warning \u001b[0m\u001b[38;5;208m \u001b[0m\u001b[1;4;38;5;208mC1->P1: \"A0229a\" h\u001b[0m\u001b[38;5;208mas no inspirations, using self!\u001b[0m\n"
      ]
     },
     "metadata": {},
     "output_type": "display_data"
    },
    {
     "data": {
      "text/html": [
       "<pre style=\"white-space:pre;overflow-x:auto;line-height:normal;font-family:Menlo,'DejaVu Sans Mono',consolas,'Courier New',monospace;margin:0px\"><span style=\"background-color: #d7af00; font-weight: bold\"> DISK </span> Writing <span style=\"color: #d7af00; text-decoration-color: #d7af00\">../syndirella/templates/A0229a_apo-desolv.pdb</span>...\n",
       "</pre>\n"
      ],
      "text/plain": [
       "\u001b[1;7;38;5;178m DISK \u001b[0m Writing \u001b[38;5;178m../syndirella/templates/A0229a_apo-desolv.pdb\u001b[0m...\n"
      ]
     },
     "metadata": {},
     "output_type": "display_data"
    },
    {
     "data": {
      "text/html": [
       "<pre style=\"white-space:pre;overflow-x:auto;line-height:normal;font-family:Menlo,'DejaVu Sans Mono',consolas,'Courier New',monospace;margin:0px\"><span style=\"background-color: #ff8700; font-weight: bold\"> Warning </span><span style=\"color: #ff8700; text-decoration-color: #ff8700\"> </span><span style=\"color: #ff8700; text-decoration-color: #ff8700; font-weight: bold; text-decoration: underline\">C5-&gt;P5: \"A0503a\" h</span><span style=\"color: #ff8700; text-decoration-color: #ff8700\">as no reference, using self as template!</span>\n",
       "</pre>\n"
      ],
      "text/plain": [
       "\u001b[1;7;38;5;208m Warning \u001b[0m\u001b[38;5;208m \u001b[0m\u001b[1;4;38;5;208mC5->P5: \"A0503a\" h\u001b[0m\u001b[38;5;208mas no reference, using self as template!\u001b[0m\n"
      ]
     },
     "metadata": {},
     "output_type": "display_data"
    },
    {
     "data": {
      "text/html": [
       "<pre style=\"white-space:pre;overflow-x:auto;line-height:normal;font-family:Menlo,'DejaVu Sans Mono',consolas,'Courier New',monospace;margin:0px\"><span style=\"background-color: #ff8700; font-weight: bold\"> Warning </span><span style=\"color: #ff8700; text-decoration-color: #ff8700\"> </span><span style=\"color: #ff8700; text-decoration-color: #ff8700; font-weight: bold; text-decoration: underline\">C5-&gt;P5: \"A0503a\" h</span><span style=\"color: #ff8700; text-decoration-color: #ff8700\">as no inspirations, using self!</span>\n",
       "</pre>\n"
      ],
      "text/plain": [
       "\u001b[1;7;38;5;208m Warning \u001b[0m\u001b[38;5;208m \u001b[0m\u001b[1;4;38;5;208mC5->P5: \"A0503a\" h\u001b[0m\u001b[38;5;208mas no inspirations, using self!\u001b[0m\n"
      ]
     },
     "metadata": {},
     "output_type": "display_data"
    },
    {
     "data": {
      "text/html": [
       "<pre style=\"white-space:pre;overflow-x:auto;line-height:normal;font-family:Menlo,'DejaVu Sans Mono',consolas,'Courier New',monospace;margin:0px\"><span style=\"background-color: #d7af00; font-weight: bold\"> DISK </span> Writing <span style=\"color: #d7af00; text-decoration-color: #d7af00\">../syndirella/templates/A0503a_apo-desolv.pdb</span>...\n",
       "</pre>\n"
      ],
      "text/plain": [
       "\u001b[1;7;38;5;178m DISK \u001b[0m Writing \u001b[38;5;178m../syndirella/templates/A0503a_apo-desolv.pdb\u001b[0m...\n"
      ]
     },
     "metadata": {},
     "output_type": "display_data"
    },
    {
     "data": {
      "text/html": [
       "<pre style=\"white-space:pre;overflow-x:auto;line-height:normal;font-family:Menlo,'DejaVu Sans Mono',consolas,'Courier New',monospace;margin:0px\"><span style=\"background-color: #ff8700; font-weight: bold\"> Warning </span><span style=\"color: #ff8700; text-decoration-color: #ff8700\"> </span><span style=\"color: #ff8700; text-decoration-color: #ff8700; font-weight: bold; text-decoration: underline\">C6-&gt;P6: \"A0759a\" h</span><span style=\"color: #ff8700; text-decoration-color: #ff8700\">as no reference, using self as template!</span>\n",
       "</pre>\n"
      ],
      "text/plain": [
       "\u001b[1;7;38;5;208m Warning \u001b[0m\u001b[38;5;208m \u001b[0m\u001b[1;4;38;5;208mC6->P6: \"A0759a\" h\u001b[0m\u001b[38;5;208mas no reference, using self as template!\u001b[0m\n"
      ]
     },
     "metadata": {},
     "output_type": "display_data"
    },
    {
     "data": {
      "text/html": [
       "<pre style=\"white-space:pre;overflow-x:auto;line-height:normal;font-family:Menlo,'DejaVu Sans Mono',consolas,'Courier New',monospace;margin:0px\"><span style=\"background-color: #ff8700; font-weight: bold\"> Warning </span><span style=\"color: #ff8700; text-decoration-color: #ff8700\"> </span><span style=\"color: #ff8700; text-decoration-color: #ff8700; font-weight: bold; text-decoration: underline\">C6-&gt;P6: \"A0759a\" h</span><span style=\"color: #ff8700; text-decoration-color: #ff8700\">as no inspirations, using self!</span>\n",
       "</pre>\n"
      ],
      "text/plain": [
       "\u001b[1;7;38;5;208m Warning \u001b[0m\u001b[38;5;208m \u001b[0m\u001b[1;4;38;5;208mC6->P6: \"A0759a\" h\u001b[0m\u001b[38;5;208mas no inspirations, using self!\u001b[0m\n"
      ]
     },
     "metadata": {},
     "output_type": "display_data"
    },
    {
     "data": {
      "text/html": [
       "<pre style=\"white-space:pre;overflow-x:auto;line-height:normal;font-family:Menlo,'DejaVu Sans Mono',consolas,'Courier New',monospace;margin:0px\"><span style=\"background-color: #d7af00; font-weight: bold\"> DISK </span> Writing <span style=\"color: #d7af00; text-decoration-color: #d7af00\">../syndirella/templates/A0759a_apo-desolv.pdb</span>...\n",
       "</pre>\n"
      ],
      "text/plain": [
       "\u001b[1;7;38;5;178m DISK \u001b[0m Writing \u001b[38;5;178m../syndirella/templates/A0759a_apo-desolv.pdb\u001b[0m...\n"
      ]
     },
     "metadata": {},
     "output_type": "display_data"
    },
    {
     "data": {
      "text/html": [
       "<pre style=\"white-space:pre;overflow-x:auto;line-height:normal;font-family:Menlo,'DejaVu Sans Mono',consolas,'Courier New',monospace;margin:0px\"></pre>\n"
      ],
      "text/plain": []
     },
     "metadata": {},
     "output_type": "display_data"
    },
    {
     "data": {
      "text/html": [
       "<pre style=\"white-space:pre;overflow-x:auto;line-height:normal;font-family:Menlo,'DejaVu Sans Mono',consolas,'Courier New',monospace;margin:0px\"><span style=\"background-color: #d7af00; font-weight: bold\"> DISK </span> Writing <span style=\"color: #d7af00; text-decoration-color: #d7af00\">../syndirella/iter1_elabs_syndirella_input.csv</span>...\n",
       "</pre>\n"
      ],
      "text/plain": [
       "\u001b[1;7;38;5;178m DISK \u001b[0m Writing \u001b[38;5;178m../syndirella/iter1_elabs_syndirella_input.csv\u001b[0m...\n"
      ]
     },
     "metadata": {},
     "output_type": "display_data"
    },
    {
     "data": {
      "application/vnd.jupyter.widget-view+json": {
       "model_id": "0de205430f9f4a4686e7943286ff6e2f",
       "version_major": 2,
       "version_minor": 0
      },
      "text/plain": [
       "Output()"
      ]
     },
     "metadata": {},
     "output_type": "display_data"
    },
    {
     "data": {
      "text/html": [
       "<pre style=\"white-space:pre;overflow-x:auto;line-height:normal;font-family:Menlo,'DejaVu Sans Mono',consolas,'Courier New',monospace;margin:0px\"><span style=\"background-color: #800000; font-weight: bold\"> ERROR </span><span style=\"color: #800000; text-decoration-color: #800000; font-weight: bold\"> No entry in subsite_tag with subsite_tag_pose=1!</span>\n",
       "</pre>\n"
      ],
      "text/plain": [
       "\u001b[1;7;31m ERROR \u001b[0m\u001b[1;31m No entry in subsite_tag with subsite_tag_pose=1!\u001b[0m\n"
      ]
     },
     "metadata": {},
     "output_type": "display_data"
    },
    {
     "data": {
      "text/html": [
       "<pre style=\"white-space:pre;overflow-x:auto;line-height:normal;font-family:Menlo,'DejaVu Sans Mono',consolas,'Courier New',monospace;margin:0px\"><span style=\"background-color: #800000; font-weight: bold\"> ERROR </span><span style=\"color: #800000; text-decoration-color: #800000; font-weight: bold\"> No entry in subsite_tag with subsite_tag_pose=5!</span>\n",
       "</pre>\n"
      ],
      "text/plain": [
       "\u001b[1;7;31m ERROR \u001b[0m\u001b[1;31m No entry in subsite_tag with subsite_tag_pose=5!\u001b[0m\n"
      ]
     },
     "metadata": {},
     "output_type": "display_data"
    },
    {
     "data": {
      "text/html": [
       "<pre style=\"white-space:pre;overflow-x:auto;line-height:normal;font-family:Menlo,'DejaVu Sans Mono',consolas,'Courier New',monospace;margin:0px\"><span style=\"background-color: #800000; font-weight: bold\"> ERROR </span><span style=\"color: #800000; text-decoration-color: #800000; font-weight: bold\"> No entry in subsite_tag with subsite_tag_pose=6!</span>\n",
       "</pre>\n"
      ],
      "text/plain": [
       "\u001b[1;7;31m ERROR \u001b[0m\u001b[1;31m No entry in subsite_tag with subsite_tag_pose=6!\u001b[0m\n"
      ]
     },
     "metadata": {},
     "output_type": "display_data"
    },
    {
     "data": {
      "text/html": [
       "<pre style=\"white-space:pre;overflow-x:auto;line-height:normal;font-family:Menlo,'DejaVu Sans Mono',consolas,'Courier New',monospace;margin:0px\"></pre>\n"
      ],
      "text/plain": []
     },
     "metadata": {},
     "output_type": "display_data"
    },
    {
     "data": {
      "text/html": [
       "<pre style=\"white-space:pre;overflow-x:auto;line-height:normal;font-family:Menlo,'DejaVu Sans Mono',consolas,'Courier New',monospace;margin:0px\"><span style=\"background-color: #d7af00; font-weight: bold\"> DISK </span> Writing <span style=\"color: #d7af00; text-decoration-color: #d7af00\">../syndirella/iter1_elabs_syndirella_inspiration_hits.sdf</span>...\n",
       "</pre>\n"
      ],
      "text/plain": [
       "\u001b[1;7;38;5;178m DISK \u001b[0m Writing \u001b[38;5;178m../syndirella/iter1_elabs_syndirella_inspiration_hits.sdf\u001b[0m...\n"
      ]
     },
     "metadata": {},
     "output_type": "display_data"
    },
    {
     "data": {
      "text/html": [
       "<div>\n",
       "<style scoped>\n",
       "    .dataframe tbody tr th:only-of-type {\n",
       "        vertical-align: middle;\n",
       "    }\n",
       "\n",
       "    .dataframe tbody tr th {\n",
       "        vertical-align: top;\n",
       "    }\n",
       "\n",
       "    .dataframe thead th {\n",
       "        text-align: right;\n",
       "    }\n",
       "</style>\n",
       "<table border=\"1\" class=\"dataframe\">\n",
       "  <thead>\n",
       "    <tr style=\"text-align: right;\">\n",
       "      <th></th>\n",
       "      <th>smiles</th>\n",
       "      <th>template</th>\n",
       "      <th>compound_set</th>\n",
       "      <th>hit1</th>\n",
       "    </tr>\n",
       "  </thead>\n",
       "  <tbody>\n",
       "    <tr>\n",
       "      <th>0</th>\n",
       "      <td>COc1ccc2[nH]cc(CN(C)C)c2c1</td>\n",
       "      <td>A0229a</td>\n",
       "      <td>iter1_elabs</td>\n",
       "      <td>A0229a</td>\n",
       "    </tr>\n",
       "    <tr>\n",
       "      <th>1</th>\n",
       "      <td>Cc1nc2ccccc2n1CCC(N)=O</td>\n",
       "      <td>A0503a</td>\n",
       "      <td>iter1_elabs</td>\n",
       "      <td>A0503a</td>\n",
       "    </tr>\n",
       "    <tr>\n",
       "      <th>2</th>\n",
       "      <td>CC(O)CNCc1ccc2c(c1)OCO2</td>\n",
       "      <td>A0759a</td>\n",
       "      <td>iter1_elabs</td>\n",
       "      <td>A0759a</td>\n",
       "    </tr>\n",
       "  </tbody>\n",
       "</table>\n",
       "</div>"
      ],
      "text/plain": [
       "                       smiles template compound_set    hit1\n",
       "0  COc1ccc2[nH]cc(CN(C)C)c2c1   A0229a  iter1_elabs  A0229a\n",
       "1      Cc1nc2ccccc2n1CCC(N)=O   A0503a  iter1_elabs  A0503a\n",
       "2     CC(O)CNCc1ccc2c(c1)OCO2   A0759a  iter1_elabs  A0759a"
      ]
     },
     "execution_count": 4,
     "metadata": {},
     "output_type": "execute_result"
    }
   ],
   "source": [
    "animal.poses['A0229a', 'A0503a', 'A0759a'].to_syndirella(\"../syndirella/iter1_elabs\")"
   ]
  },
  {
   "cell_type": "code",
   "execution_count": 10,
   "id": "a3e5c6dc-69eb-4c1c-a631-ed2085613ad8",
   "metadata": {},
   "outputs": [
    {
     "data": {
      "text/plain": [
       "\u001b[1m\u001b[4mC10 \"NCUZRMAXKXZOMY-UHFFFAOYSA-N\"\u001b[22m\u001b[24m"
      ]
     },
     "execution_count": 10,
     "metadata": {},
     "output_type": "execute_result"
    }
   ],
   "source": [
    "animal.compounds(smiles=\"Cc1nc2ccccc2n1CCC(=O)NC[C@H](C)O\")"
   ]
  },
  {
   "cell_type": "code",
   "execution_count": 15,
   "id": "2c2d6c5c-fd3f-4c0d-ab23-61dd752ab183",
   "metadata": {},
   "outputs": [
    {
     "data": {
      "text/html": [
       "<pre style=\"white-space:pre;overflow-x:auto;line-height:normal;font-family:Menlo,'DejaVu Sans Mono',consolas,'Courier New',monospace;margin:0px\">A0229a,A0503a A0503a\n",
       "</pre>\n"
      ],
      "text/plain": [
       "A0229a,A0503a A0503a\n"
      ]
     },
     "metadata": {},
     "output_type": "display_data"
    },
    {
     "data": {
      "text/html": [
       "<pre style=\"white-space:pre;overflow-x:auto;line-height:normal;font-family:Menlo,'DejaVu Sans Mono',consolas,'Courier New',monospace;margin:0px\">A0229a,A0503a A0503a\n",
       "</pre>\n"
      ],
      "text/plain": [
       "A0229a,A0503a A0503a\n"
      ]
     },
     "metadata": {},
     "output_type": "display_data"
    },
    {
     "data": {
      "text/html": [
       "<pre style=\"white-space:pre;overflow-x:auto;line-height:normal;font-family:Menlo,'DejaVu Sans Mono',consolas,'Courier New',monospace;margin:0px\">A0229a,A0503a A0503a\n",
       "</pre>\n"
      ],
      "text/plain": [
       "A0229a,A0503a A0503a\n"
      ]
     },
     "metadata": {},
     "output_type": "display_data"
    },
    {
     "data": {
      "text/html": [
       "<pre style=\"white-space:pre;overflow-x:auto;line-height:normal;font-family:Menlo,'DejaVu Sans Mono',consolas,'Courier New',monospace;margin:0px\">A0229a,A0503a A0503a\n",
       "</pre>\n"
      ],
      "text/plain": [
       "A0229a,A0503a A0503a\n"
      ]
     },
     "metadata": {},
     "output_type": "display_data"
    },
    {
     "data": {
      "text/html": [
       "<pre style=\"white-space:pre;overflow-x:auto;line-height:normal;font-family:Menlo,'DejaVu Sans Mono',consolas,'Courier New',monospace;margin:0px\">A0503a,A0759a A0759a\n",
       "</pre>\n"
      ],
      "text/plain": [
       "A0503a,A0759a A0759a\n"
      ]
     },
     "metadata": {},
     "output_type": "display_data"
    },
    {
     "data": {
      "text/html": [
       "<pre style=\"white-space:pre;overflow-x:auto;line-height:normal;font-family:Menlo,'DejaVu Sans Mono',consolas,'Courier New',monospace;margin:0px\">A0503a,A0759a A0503a\n",
       "</pre>\n"
      ],
      "text/plain": [
       "A0503a,A0759a A0503a\n"
      ]
     },
     "metadata": {},
     "output_type": "display_data"
    },
    {
     "data": {
      "text/html": [
       "<pre style=\"white-space:pre;overflow-x:auto;line-height:normal;font-family:Menlo,'DejaVu Sans Mono',consolas,'Courier New',monospace;margin:0px\">A0503a,A0759a A0503a\n",
       "</pre>\n"
      ],
      "text/plain": [
       "A0503a,A0759a A0503a\n"
      ]
     },
     "metadata": {},
     "output_type": "display_data"
    },
    {
     "data": {
      "text/html": [
       "<pre style=\"white-space:pre;overflow-x:auto;line-height:normal;font-family:Menlo,'DejaVu Sans Mono',consolas,'Courier New',monospace;margin:0px\">A0503a,A0759a A0503a\n",
       "</pre>\n"
      ],
      "text/plain": [
       "A0503a,A0759a A0503a\n"
      ]
     },
     "metadata": {},
     "output_type": "display_data"
    },
    {
     "data": {
      "text/html": [
       "<pre style=\"white-space:pre;overflow-x:auto;line-height:normal;font-family:Menlo,'DejaVu Sans Mono',consolas,'Courier New',monospace;margin:0px\">A0503a,A0759a A0759a\n",
       "</pre>\n"
      ],
      "text/plain": [
       "A0503a,A0759a A0759a\n"
      ]
     },
     "metadata": {},
     "output_type": "display_data"
    },
    {
     "data": {
      "text/html": [
       "<pre style=\"white-space:pre;overflow-x:auto;line-height:normal;font-family:Menlo,'DejaVu Sans Mono',consolas,'Courier New',monospace;margin:0px\">A0503a,A0759a A0503a\n",
       "</pre>\n"
      ],
      "text/plain": [
       "A0503a,A0759a A0503a\n"
      ]
     },
     "metadata": {},
     "output_type": "display_data"
    },
    {
     "data": {
      "text/html": [
       "<pre style=\"white-space:pre;overflow-x:auto;line-height:normal;font-family:Menlo,'DejaVu Sans Mono',consolas,'Courier New',monospace;margin:0px\">A0503a,A0759a A0759a\n",
       "</pre>\n"
      ],
      "text/plain": [
       "A0503a,A0759a A0759a\n"
      ]
     },
     "metadata": {},
     "output_type": "display_data"
    },
    {
     "data": {
      "text/html": [
       "<pre style=\"white-space:pre;overflow-x:auto;line-height:normal;font-family:Menlo,'DejaVu Sans Mono',consolas,'Courier New',monospace;margin:0px\">A0503a,A0759a A0503a\n",
       "</pre>\n"
      ],
      "text/plain": [
       "A0503a,A0759a A0503a\n"
      ]
     },
     "metadata": {},
     "output_type": "display_data"
    },
    {
     "data": {
      "text/html": [
       "<pre style=\"white-space:pre;overflow-x:auto;line-height:normal;font-family:Menlo,'DejaVu Sans Mono',consolas,'Courier New',monospace;margin:0px\">A0229a,A0759a A0229a\n",
       "</pre>\n"
      ],
      "text/plain": [
       "A0229a,A0759a A0229a\n"
      ]
     },
     "metadata": {},
     "output_type": "display_data"
    },
    {
     "data": {
      "text/html": [
       "<pre style=\"white-space:pre;overflow-x:auto;line-height:normal;font-family:Menlo,'DejaVu Sans Mono',consolas,'Courier New',monospace;margin:0px\">A0503a,A0759a A0503a\n",
       "</pre>\n"
      ],
      "text/plain": [
       "A0503a,A0759a A0503a\n"
      ]
     },
     "metadata": {},
     "output_type": "display_data"
    },
    {
     "data": {
      "text/html": [
       "<pre style=\"white-space:pre;overflow-x:auto;line-height:normal;font-family:Menlo,'DejaVu Sans Mono',consolas,'Courier New',monospace;margin:0px\">A0503a,A0759a A0503a\n",
       "</pre>\n"
      ],
      "text/plain": [
       "A0503a,A0759a A0503a\n"
      ]
     },
     "metadata": {},
     "output_type": "display_data"
    },
    {
     "data": {
      "text/html": [
       "<pre style=\"white-space:pre;overflow-x:auto;line-height:normal;font-family:Menlo,'DejaVu Sans Mono',consolas,'Courier New',monospace;margin:0px\">A0503a,A0759a A0503a\n",
       "</pre>\n"
      ],
      "text/plain": [
       "A0503a,A0759a A0503a\n"
      ]
     },
     "metadata": {},
     "output_type": "display_data"
    },
    {
     "data": {
      "text/html": [
       "<pre style=\"white-space:pre;overflow-x:auto;line-height:normal;font-family:Menlo,'DejaVu Sans Mono',consolas,'Courier New',monospace;margin:0px\">A0503a,A0759a A0759a\n",
       "</pre>\n"
      ],
      "text/plain": [
       "A0503a,A0759a A0759a\n"
      ]
     },
     "metadata": {},
     "output_type": "display_data"
    },
    {
     "data": {
      "text/html": [
       "<pre style=\"white-space:pre;overflow-x:auto;line-height:normal;font-family:Menlo,'DejaVu Sans Mono',consolas,'Courier New',monospace;margin:0px\">A0503a,A0759a A0759a\n",
       "</pre>\n"
      ],
      "text/plain": [
       "A0503a,A0759a A0759a\n"
      ]
     },
     "metadata": {},
     "output_type": "display_data"
    },
    {
     "data": {
      "text/html": [
       "<pre style=\"white-space:pre;overflow-x:auto;line-height:normal;font-family:Menlo,'DejaVu Sans Mono',consolas,'Courier New',monospace;margin:0px\">A0503a,A0759a A0503a\n",
       "</pre>\n"
      ],
      "text/plain": [
       "A0503a,A0759a A0503a\n"
      ]
     },
     "metadata": {},
     "output_type": "display_data"
    },
    {
     "data": {
      "text/html": [
       "<pre style=\"white-space:pre;overflow-x:auto;line-height:normal;font-family:Menlo,'DejaVu Sans Mono',consolas,'Courier New',monospace;margin:0px\">A0503a,A0759a A0503a\n",
       "</pre>\n"
      ],
      "text/plain": [
       "A0503a,A0759a A0503a\n"
      ]
     },
     "metadata": {},
     "output_type": "display_data"
    },
    {
     "data": {
      "text/html": [
       "<pre style=\"white-space:pre;overflow-x:auto;line-height:normal;font-family:Menlo,'DejaVu Sans Mono',consolas,'Courier New',monospace;margin:0px\">A0503a,A0759a A0503a\n",
       "</pre>\n"
      ],
      "text/plain": [
       "A0503a,A0759a A0503a\n"
      ]
     },
     "metadata": {},
     "output_type": "display_data"
    },
    {
     "data": {
      "text/html": [
       "<pre style=\"white-space:pre;overflow-x:auto;line-height:normal;font-family:Menlo,'DejaVu Sans Mono',consolas,'Courier New',monospace;margin:0px\">A0503a,A0759a A0759a\n",
       "</pre>\n"
      ],
      "text/plain": [
       "A0503a,A0759a A0759a\n"
      ]
     },
     "metadata": {},
     "output_type": "display_data"
    },
    {
     "data": {
      "text/html": [
       "<pre style=\"white-space:pre;overflow-x:auto;line-height:normal;font-family:Menlo,'DejaVu Sans Mono',consolas,'Courier New',monospace;margin:0px\">A0229a,A0503a A0503a\n",
       "</pre>\n"
      ],
      "text/plain": [
       "A0229a,A0503a A0503a\n"
      ]
     },
     "metadata": {},
     "output_type": "display_data"
    },
    {
     "data": {
      "text/html": [
       "<pre style=\"white-space:pre;overflow-x:auto;line-height:normal;font-family:Menlo,'DejaVu Sans Mono',consolas,'Courier New',monospace;margin:0px\">A0229a,A0503a A0503a\n",
       "</pre>\n"
      ],
      "text/plain": [
       "A0229a,A0503a A0503a\n"
      ]
     },
     "metadata": {},
     "output_type": "display_data"
    },
    {
     "data": {
      "text/html": [
       "<pre style=\"white-space:pre;overflow-x:auto;line-height:normal;font-family:Menlo,'DejaVu Sans Mono',consolas,'Courier New',monospace;margin:0px\">A0229a,A0503a A0503a\n",
       "</pre>\n"
      ],
      "text/plain": [
       "A0229a,A0503a A0503a\n"
      ]
     },
     "metadata": {},
     "output_type": "display_data"
    },
    {
     "data": {
      "text/html": [
       "<pre style=\"white-space:pre;overflow-x:auto;line-height:normal;font-family:Menlo,'DejaVu Sans Mono',consolas,'Courier New',monospace;margin:0px\">A0229a,A0503a A0503a\n",
       "</pre>\n"
      ],
      "text/plain": [
       "A0229a,A0503a A0503a\n"
      ]
     },
     "metadata": {},
     "output_type": "display_data"
    },
    {
     "data": {
      "text/html": [
       "<pre style=\"white-space:pre;overflow-x:auto;line-height:normal;font-family:Menlo,'DejaVu Sans Mono',consolas,'Courier New',monospace;margin:0px\">A0229a,A0503a A0503a\n",
       "</pre>\n"
      ],
      "text/plain": [
       "A0229a,A0503a A0503a\n"
      ]
     },
     "metadata": {},
     "output_type": "display_data"
    },
    {
     "data": {
      "text/html": [
       "<pre style=\"white-space:pre;overflow-x:auto;line-height:normal;font-family:Menlo,'DejaVu Sans Mono',consolas,'Courier New',monospace;margin:0px\">A0229a,A0503a A0503a\n",
       "</pre>\n"
      ],
      "text/plain": [
       "A0229a,A0503a A0503a\n"
      ]
     },
     "metadata": {},
     "output_type": "display_data"
    },
    {
     "data": {
      "text/html": [
       "<pre style=\"white-space:pre;overflow-x:auto;line-height:normal;font-family:Menlo,'DejaVu Sans Mono',consolas,'Courier New',monospace;margin:0px\">A0229a,A0503a A0503a\n",
       "</pre>\n"
      ],
      "text/plain": [
       "A0229a,A0503a A0503a\n"
      ]
     },
     "metadata": {},
     "output_type": "display_data"
    },
    {
     "data": {
      "text/html": [
       "<pre style=\"white-space:pre;overflow-x:auto;line-height:normal;font-family:Menlo,'DejaVu Sans Mono',consolas,'Courier New',monospace;margin:0px\">A0229a,A0503a A0503a\n",
       "</pre>\n"
      ],
      "text/plain": [
       "A0229a,A0503a A0503a\n"
      ]
     },
     "metadata": {},
     "output_type": "display_data"
    },
    {
     "data": {
      "text/html": [
       "<pre style=\"white-space:pre;overflow-x:auto;line-height:normal;font-family:Menlo,'DejaVu Sans Mono',consolas,'Courier New',monospace;margin:0px\">A0229a,A0503a A0503a\n",
       "</pre>\n"
      ],
      "text/plain": [
       "A0229a,A0503a A0503a\n"
      ]
     },
     "metadata": {},
     "output_type": "display_data"
    },
    {
     "data": {
      "text/html": [
       "<pre style=\"white-space:pre;overflow-x:auto;line-height:normal;font-family:Menlo,'DejaVu Sans Mono',consolas,'Courier New',monospace;margin:0px\">A0229a,A0503a A0229a\n",
       "</pre>\n"
      ],
      "text/plain": [
       "A0229a,A0503a A0229a\n"
      ]
     },
     "metadata": {},
     "output_type": "display_data"
    },
    {
     "data": {
      "text/html": [
       "<pre style=\"white-space:pre;overflow-x:auto;line-height:normal;font-family:Menlo,'DejaVu Sans Mono',consolas,'Courier New',monospace;margin:0px\">A0229a,A0503a A0229a\n",
       "</pre>\n"
      ],
      "text/plain": [
       "A0229a,A0503a A0229a\n"
      ]
     },
     "metadata": {},
     "output_type": "display_data"
    },
    {
     "data": {
      "text/html": [
       "<pre style=\"white-space:pre;overflow-x:auto;line-height:normal;font-family:Menlo,'DejaVu Sans Mono',consolas,'Courier New',monospace;margin:0px\">A0229a,A0503a A0229a\n",
       "</pre>\n"
      ],
      "text/plain": [
       "A0229a,A0503a A0229a\n"
      ]
     },
     "metadata": {},
     "output_type": "display_data"
    },
    {
     "data": {
      "text/html": [
       "<pre style=\"white-space:pre;overflow-x:auto;line-height:normal;font-family:Menlo,'DejaVu Sans Mono',consolas,'Courier New',monospace;margin:0px\">A0503a,A0759a A0759a\n",
       "</pre>\n"
      ],
      "text/plain": [
       "A0503a,A0759a A0759a\n"
      ]
     },
     "metadata": {},
     "output_type": "display_data"
    },
    {
     "data": {
      "text/html": [
       "<pre style=\"white-space:pre;overflow-x:auto;line-height:normal;font-family:Menlo,'DejaVu Sans Mono',consolas,'Courier New',monospace;margin:0px\">A0503a,A0759a A0503a\n",
       "</pre>\n"
      ],
      "text/plain": [
       "A0503a,A0759a A0503a\n"
      ]
     },
     "metadata": {},
     "output_type": "display_data"
    },
    {
     "data": {
      "text/html": [
       "<pre style=\"white-space:pre;overflow-x:auto;line-height:normal;font-family:Menlo,'DejaVu Sans Mono',consolas,'Courier New',monospace;margin:0px\">A0503a,A0759a A0759a\n",
       "</pre>\n"
      ],
      "text/plain": [
       "A0503a,A0759a A0759a\n"
      ]
     },
     "metadata": {},
     "output_type": "display_data"
    },
    {
     "data": {
      "text/html": [
       "<pre style=\"white-space:pre;overflow-x:auto;line-height:normal;font-family:Menlo,'DejaVu Sans Mono',consolas,'Courier New',monospace;margin:0px\">A0503a,A0759a A0759a\n",
       "</pre>\n"
      ],
      "text/plain": [
       "A0503a,A0759a A0759a\n"
      ]
     },
     "metadata": {},
     "output_type": "display_data"
    },
    {
     "data": {
      "text/html": [
       "<pre style=\"white-space:pre;overflow-x:auto;line-height:normal;font-family:Menlo,'DejaVu Sans Mono',consolas,'Courier New',monospace;margin:0px\">A0503a,A0759a A0503a\n",
       "</pre>\n"
      ],
      "text/plain": [
       "A0503a,A0759a A0503a\n"
      ]
     },
     "metadata": {},
     "output_type": "display_data"
    },
    {
     "data": {
      "text/html": [
       "<pre style=\"white-space:pre;overflow-x:auto;line-height:normal;font-family:Menlo,'DejaVu Sans Mono',consolas,'Courier New',monospace;margin:0px\">A0503a,A0759a A0503a\n",
       "</pre>\n"
      ],
      "text/plain": [
       "A0503a,A0759a A0503a\n"
      ]
     },
     "metadata": {},
     "output_type": "display_data"
    },
    {
     "data": {
      "text/html": [
       "<pre style=\"white-space:pre;overflow-x:auto;line-height:normal;font-family:Menlo,'DejaVu Sans Mono',consolas,'Courier New',monospace;margin:0px\">A0503a,A0759a A0759a\n",
       "</pre>\n"
      ],
      "text/plain": [
       "A0503a,A0759a A0759a\n"
      ]
     },
     "metadata": {},
     "output_type": "display_data"
    }
   ],
   "source": [
    "for c_id in [544,554,563,565,814,842,843,848,850,860,876,881,908,973,973,980,318,318,332,411,412,421,527,527,554,557,557,560,560,563,565,570,570,574,814,818,837,837,411,412,10]:\n",
    "        c = animal.compounds[c_id]\n",
    "        p = c.best_placed_pose\n",
    "        print(\",\".join(p.inspirations.names), p.reference.name)"
   ]
  },
  {
   "cell_type": "code",
   "execution_count": null,
   "id": "68f23e9b-5529-40d4-ace9-5cb2cb5ac374",
   "metadata": {},
   "outputs": [],
   "source": []
  }
 ],
 "metadata": {
  "kernelspec": {
   "display_name": "Python 3 (ipykernel)",
   "language": "python",
   "name": "python3"
  },
  "language_info": {
   "codemirror_mode": {
    "name": "ipython",
    "version": 3
   },
   "file_extension": ".py",
   "mimetype": "text/x-python",
   "name": "python",
   "nbconvert_exporter": "python",
   "pygments_lexer": "ipython3",
   "version": "3.12.8"
  }
 },
 "nbformat": 4,
 "nbformat_minor": 5
}
